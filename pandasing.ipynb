{
  "nbformat": 4,
  "nbformat_minor": 0,
  "metadata": {
    "colab": {
      "name": "pandasing",
      "provenance": [],
      "authorship_tag": "ABX9TyN6F2+W/ql88sxNXqQZQYYj",
      "include_colab_link": true
    },
    "kernelspec": {
      "name": "python3",
      "display_name": "Python 3"
    }
  },
  "cells": [
    {
      "cell_type": "markdown",
      "metadata": {
        "id": "view-in-github",
        "colab_type": "text"
      },
      "source": [
        "<a href=\"https://colab.research.google.com/github/csrajath/Practicing-DataScience/blob/main/pandasing.ipynb\" target=\"_parent\"><img src=\"https://colab.research.google.com/assets/colab-badge.svg\" alt=\"Open In Colab\"/></a>"
      ]
    },
    {
      "cell_type": "code",
      "metadata": {
        "id": "aL-2Fbgi2Dbm"
      },
      "source": [
        "import pandas as pd\n",
        "import numpy as np"
      ],
      "execution_count": null,
      "outputs": []
    },
    {
      "cell_type": "code",
      "metadata": {
        "id": "DeIP8zzxDHai"
      },
      "source": [
        "df = pd.DataFrame({'name':['raj','ram','rak','rav','manu','sush','aish','rkk','nik'], 'age':[23,34,56,23,12,24,56,78,54], 'score':np.random.random(9).round(3)})"
      ],
      "execution_count": null,
      "outputs": []
    },
    {
      "cell_type": "markdown",
      "metadata": {
        "id": "cg91etmV3895"
      },
      "source": [
        "## Filtering Techniques"
      ]
    },
    {
      "cell_type": "code",
      "metadata": {
        "colab": {
          "base_uri": "https://localhost:8080/"
        },
        "id": "-xxzHo6wGZrZ",
        "outputId": "9ddb08e8-965d-4872-ab99-abedbb7408c5"
      },
      "source": [
        "print(df[df.name<'ram'])"
      ],
      "execution_count": null,
      "outputs": [
        {
          "output_type": "stream",
          "text": [
            "   name  age  score\n",
            "0   raj   23  0.067\n",
            "2   rak   56  0.579\n",
            "4  manu   12  0.229\n",
            "6  aish   56  0.821\n",
            "8   nik   54  0.264\n"
          ],
          "name": "stdout"
        }
      ]
    },
    {
      "cell_type": "code",
      "metadata": {
        "colab": {
          "base_uri": "https://localhost:8080/"
        },
        "id": "Op5iq2UGGhMG",
        "outputId": "3ddd81a1-7d97-4411-c994-8e60f993ccb3"
      },
      "source": [
        "print(df[(df.age>25)& (df.score<0.5)])"
      ],
      "execution_count": null,
      "outputs": [
        {
          "output_type": "stream",
          "text": [
            "  name  age  score\n",
            "1  ram   34  0.277\n",
            "7  rkk   78  0.060\n",
            "8  nik   54  0.264\n"
          ],
          "name": "stdout"
        }
      ]
    },
    {
      "cell_type": "code",
      "metadata": {
        "colab": {
          "base_uri": "https://localhost:8080/"
        },
        "id": "3KD8RRBBGsmK",
        "outputId": "00cda3fd-e944-4352-f220-b9f4e9f3bdff"
      },
      "source": [
        "print(df[df.name.str.startswith('a')])"
      ],
      "execution_count": null,
      "outputs": [
        {
          "output_type": "stream",
          "text": [
            "   name  age  score\n",
            "6  aish   56  0.821\n"
          ],
          "name": "stdout"
        }
      ]
    },
    {
      "cell_type": "code",
      "metadata": {
        "colab": {
          "base_uri": "https://localhost:8080/"
        },
        "id": "lRdh1eYHGwfe",
        "outputId": "f28a6bf3-13a7-4010-86f4-525a2ef67850"
      },
      "source": [
        "print(df[~df.name.str.startswith('r')])"
      ],
      "execution_count": null,
      "outputs": [
        {
          "output_type": "stream",
          "text": [
            "   name  age  score\n",
            "4  manu   12  0.229\n",
            "5  sush   24  0.255\n",
            "6  aish   56  0.821\n",
            "8   nik   54  0.264\n"
          ],
          "name": "stdout"
        }
      ]
    },
    {
      "cell_type": "code",
      "metadata": {
        "colab": {
          "base_uri": "https://localhost:8080/"
        },
        "id": "-DKPW6e0G3tz",
        "outputId": "53b16515-7cf0-4ec4-8aad-f078ecbf5291"
      },
      "source": [
        "print(df.iloc[3:9,:])"
      ],
      "execution_count": null,
      "outputs": [
        {
          "output_type": "stream",
          "text": [
            "   name  age  score\n",
            "3   rav   23  0.595\n",
            "4  manu   12  0.229\n",
            "5  sush   24  0.255\n",
            "6  aish   56  0.821\n",
            "7   rkk   78  0.060\n",
            "8   nik   54  0.264\n"
          ],
          "name": "stdout"
        }
      ]
    },
    {
      "cell_type": "code",
      "metadata": {
        "colab": {
          "base_uri": "https://localhost:8080/"
        },
        "id": "l5DpGXmVG7Zu",
        "outputId": "e1cfd127-e15e-47c0-a8f7-f6c58c66fc76"
      },
      "source": [
        "print(df.loc[4:7,:])"
      ],
      "execution_count": null,
      "outputs": [
        {
          "output_type": "stream",
          "text": [
            "   name  age  score\n",
            "4  manu   12  0.229\n",
            "5  sush   24  0.255\n",
            "6  aish   56  0.821\n",
            "7   rkk   78  0.060\n"
          ],
          "name": "stdout"
        }
      ]
    },
    {
      "cell_type": "code",
      "metadata": {
        "id": "oPrjqxM0G_Ch"
      },
      "source": [
        "df.index=['a','b','c','d','e','f','g','h','i']"
      ],
      "execution_count": null,
      "outputs": []
    },
    {
      "cell_type": "code",
      "metadata": {
        "colab": {
          "base_uri": "https://localhost:8080/",
          "height": 204
        },
        "id": "ew_WycK2HGnZ",
        "outputId": "8327b4e9-c125-404d-bc46-67d4af31baff"
      },
      "source": [
        "df.loc['a':'e',:]"
      ],
      "execution_count": null,
      "outputs": [
        {
          "output_type": "execute_result",
          "data": {
            "text/html": [
              "<div>\n",
              "<style scoped>\n",
              "    .dataframe tbody tr th:only-of-type {\n",
              "        vertical-align: middle;\n",
              "    }\n",
              "\n",
              "    .dataframe tbody tr th {\n",
              "        vertical-align: top;\n",
              "    }\n",
              "\n",
              "    .dataframe thead th {\n",
              "        text-align: right;\n",
              "    }\n",
              "</style>\n",
              "<table border=\"1\" class=\"dataframe\">\n",
              "  <thead>\n",
              "    <tr style=\"text-align: right;\">\n",
              "      <th></th>\n",
              "      <th>name</th>\n",
              "      <th>age</th>\n",
              "      <th>score</th>\n",
              "    </tr>\n",
              "  </thead>\n",
              "  <tbody>\n",
              "    <tr>\n",
              "      <th>a</th>\n",
              "      <td>raj</td>\n",
              "      <td>23</td>\n",
              "      <td>0.067</td>\n",
              "    </tr>\n",
              "    <tr>\n",
              "      <th>b</th>\n",
              "      <td>ram</td>\n",
              "      <td>34</td>\n",
              "      <td>0.277</td>\n",
              "    </tr>\n",
              "    <tr>\n",
              "      <th>c</th>\n",
              "      <td>rak</td>\n",
              "      <td>56</td>\n",
              "      <td>0.579</td>\n",
              "    </tr>\n",
              "    <tr>\n",
              "      <th>d</th>\n",
              "      <td>rav</td>\n",
              "      <td>23</td>\n",
              "      <td>0.595</td>\n",
              "    </tr>\n",
              "    <tr>\n",
              "      <th>e</th>\n",
              "      <td>manu</td>\n",
              "      <td>12</td>\n",
              "      <td>0.229</td>\n",
              "    </tr>\n",
              "  </tbody>\n",
              "</table>\n",
              "</div>"
            ],
            "text/plain": [
              "   name  age  score\n",
              "a   raj   23  0.067\n",
              "b   ram   34  0.277\n",
              "c   rak   56  0.579\n",
              "d   rav   23  0.595\n",
              "e  manu   12  0.229"
            ]
          },
          "metadata": {
            "tags": []
          },
          "execution_count": 95
        }
      ]
    },
    {
      "cell_type": "code",
      "metadata": {
        "colab": {
          "base_uri": "https://localhost:8080/"
        },
        "id": "Ya8G0UBTHKde",
        "outputId": "ef4a33bb-0606-4313-e408-5fc0060af98c"
      },
      "source": [
        "print(df.query('age==56 & score<0.6'))"
      ],
      "execution_count": null,
      "outputs": [
        {
          "output_type": "stream",
          "text": [
            "  name  age  score\n",
            "c  rak   56  0.579\n"
          ],
          "name": "stdout"
        }
      ]
    }
  ]
}