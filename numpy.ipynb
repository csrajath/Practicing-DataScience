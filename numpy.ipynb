{
  "nbformat": 4,
  "nbformat_minor": 0,
  "metadata": {
    "colab": {
      "name": "numpy",
      "provenance": [],
      "authorship_tag": "ABX9TyOk07xn5E6nreLE04UVQySF",
      "include_colab_link": true
    },
    "kernelspec": {
      "name": "python3",
      "display_name": "Python 3"
    }
  },
  "cells": [
    {
      "cell_type": "markdown",
      "metadata": {
        "id": "view-in-github",
        "colab_type": "text"
      },
      "source": [
        "<a href=\"https://colab.research.google.com/github/csrajath/Practicing-DataScience/blob/main/numpy.ipynb\" target=\"_parent\"><img src=\"https://colab.research.google.com/assets/colab-badge.svg\" alt=\"Open In Colab\"/></a>"
      ]
    },
    {
      "cell_type": "markdown",
      "metadata": {
        "id": "mNZ972m8T-uo"
      },
      "source": [
        "* Arrays are like lists in python except for the fact that they can hold similar type elements only\n",
        "*  Array elements can be accesed like lists for slicing, indexing and etc.\n",
        "* The first element in np.shape is the column and the second is the row."
      ]
    },
    {
      "cell_type": "markdown",
      "metadata": {
        "id": "BNHSE6TlUdP_"
      },
      "source": [
        "### To practice\n",
        "* Define an array\n",
        "* Define a multi dimensional array\n",
        "* Perform slicing Operation on both\n",
        "* Use matplotlib to read an image and crop it using Numpy"
      ]
    },
    {
      "cell_type": "code",
      "metadata": {
        "id": "jGSEj9yrUGiW"
      },
      "source": [
        ""
      ],
      "execution_count": null,
      "outputs": []
    }
  ]
}