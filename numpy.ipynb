{
  "nbformat": 4,
  "nbformat_minor": 0,
  "metadata": {
    "colab": {
      "name": "numpy",
      "provenance": [],
      "authorship_tag": "ABX9TyPmqEtRUvthmwuaucuVLb6b",
      "include_colab_link": true
    },
    "kernelspec": {
      "name": "python3",
      "display_name": "Python 3"
    }
  },
  "cells": [
    {
      "cell_type": "markdown",
      "metadata": {
        "id": "view-in-github",
        "colab_type": "text"
      },
      "source": [
        "<a href=\"https://colab.research.google.com/github/csrajath/Practicing-DataScience/blob/main/numpy.ipynb\" target=\"_parent\"><img src=\"https://colab.research.google.com/assets/colab-badge.svg\" alt=\"Open In Colab\"/></a>"
      ]
    },
    {
      "cell_type": "markdown",
      "metadata": {
        "id": "mNZ972m8T-uo"
      },
      "source": [
        "* Arrays are like lists in python except for the fact that they can hold similar type elements only\n",
        "*  Array elements can be accesed like lists for slicing, indexing and etc.\n",
        "* The first element in np.shape is the column and the second is the row."
      ]
    },
    {
      "cell_type": "markdown",
      "metadata": {
        "id": "BNHSE6TlUdP_"
      },
      "source": [
        "### To practice\n",
        "* Define an array\n",
        "* Define a multi dimensional array\n",
        "* Perform slicing Operation on both, check the shape and object types.\n",
        "* Define an array of integer elements and later convert it to float\n",
        "* Use matplotlib to read an image and crop it using Numpy\n",
        "* Convert a list to an array and an array to a list\n",
        "* Perform reshape operation on a multi-dimensional array"
      ]
    },
    {
      "cell_type": "code",
      "metadata": {
        "id": "jGSEj9yrUGiW"
      },
      "source": [
        "import numpy as np\n",
        "import matplotlib.pyplot as plt\n",
        "import matplotlib.image as mpimg\n",
        "%matplotlib inline "
      ],
      "execution_count": 94,
      "outputs": []
    },
    {
      "cell_type": "code",
      "metadata": {
        "colab": {
          "base_uri": "https://localhost:8080/"
        },
        "id": "bcypJ6csVKa9",
        "outputId": "0f4499e0-bb1e-4e27-c8ec-97c2d615a90e"
      },
      "source": [
        "a = np.array([1,2,3,4,5])\n",
        "a"
      ],
      "execution_count": 96,
      "outputs": [
        {
          "output_type": "execute_result",
          "data": {
            "text/plain": [
              "array([1, 2, 3, 4, 5])"
            ]
          },
          "metadata": {
            "tags": []
          },
          "execution_count": 96
        }
      ]
    },
    {
      "cell_type": "code",
      "metadata": {
        "colab": {
          "base_uri": "https://localhost:8080/"
        },
        "id": "HmIOC-TbVecW",
        "outputId": "c6d4740a-9133-44e8-edbf-20ab2ce68a67"
      },
      "source": [
        "b = np.array([['a','b'],[5,6]])\n",
        "b"
      ],
      "execution_count": 104,
      "outputs": [
        {
          "output_type": "execute_result",
          "data": {
            "text/plain": [
              "array([['a', 'b'],\n",
              "       ['5', '6']], dtype='<U1')"
            ]
          },
          "metadata": {
            "tags": []
          },
          "execution_count": 104
        }
      ]
    },
    {
      "cell_type": "code",
      "metadata": {
        "colab": {
          "base_uri": "https://localhost:8080/"
        },
        "id": "v0544YJ-VlmW",
        "outputId": "d87f4d2e-34db-4b01-d746-5b2b22f148e6"
      },
      "source": [
        "b.shape"
      ],
      "execution_count": 105,
      "outputs": [
        {
          "output_type": "execute_result",
          "data": {
            "text/plain": [
              "(2, 2)"
            ]
          },
          "metadata": {
            "tags": []
          },
          "execution_count": 105
        }
      ]
    },
    {
      "cell_type": "code",
      "metadata": {
        "colab": {
          "base_uri": "https://localhost:8080/"
        },
        "id": "jc85iGjaVpp_",
        "outputId": "5089fe70-3783-42b4-b1fd-6f7f3e01b360"
      },
      "source": [
        "b.dtype"
      ],
      "execution_count": 106,
      "outputs": [
        {
          "output_type": "execute_result",
          "data": {
            "text/plain": [
              "dtype('<U1')"
            ]
          },
          "metadata": {
            "tags": []
          },
          "execution_count": 106
        }
      ]
    },
    {
      "cell_type": "code",
      "metadata": {
        "colab": {
          "base_uri": "https://localhost:8080/"
        },
        "id": "vmhoCtfCVrKd",
        "outputId": "4b52a2fd-f559-4dd0-929c-b712de1dc1f2"
      },
      "source": [
        "b[:,1]"
      ],
      "execution_count": 108,
      "outputs": [
        {
          "output_type": "execute_result",
          "data": {
            "text/plain": [
              "array(['b', '6'], dtype='<U1')"
            ]
          },
          "metadata": {
            "tags": []
          },
          "execution_count": 108
        }
      ]
    },
    {
      "cell_type": "code",
      "metadata": {
        "colab": {
          "base_uri": "https://localhost:8080/"
        },
        "id": "eGIgIN5marGO",
        "outputId": "9deb2cff-8d8b-4a4d-d46c-d393c9cd5390"
      },
      "source": [
        "x = np.array(range(20))\n",
        "x"
      ],
      "execution_count": 130,
      "outputs": [
        {
          "output_type": "execute_result",
          "data": {
            "text/plain": [
              "array([ 0,  1,  2,  3,  4,  5,  6,  7,  8,  9, 10, 11, 12, 13, 14, 15, 16,\n",
              "       17, 18, 19])"
            ]
          },
          "metadata": {
            "tags": []
          },
          "execution_count": 130
        }
      ]
    },
    {
      "cell_type": "code",
      "metadata": {
        "colab": {
          "base_uri": "https://localhost:8080/"
        },
        "id": "cw1VzFHVbONe",
        "outputId": "7df60c47-87b8-498a-eb0c-a4d62f99edd6"
      },
      "source": [
        "x.reshape((5,4))"
      ],
      "execution_count": 136,
      "outputs": [
        {
          "output_type": "execute_result",
          "data": {
            "text/plain": [
              "array([[ 0,  1,  2,  3],\n",
              "       [ 4,  5,  6,  7],\n",
              "       [ 8,  9, 10, 11],\n",
              "       [12, 13, 14, 15],\n",
              "       [16, 17, 18, 19]])"
            ]
          },
          "metadata": {
            "tags": []
          },
          "execution_count": 136
        }
      ]
    },
    {
      "cell_type": "code",
      "metadata": {
        "colab": {
          "base_uri": "https://localhost:8080/"
        },
        "id": "160aHnTLbWsw",
        "outputId": "8b1a1586-c1ac-4500-c674-70e5464758b4"
      },
      "source": [
        "x.tolist()"
      ],
      "execution_count": 137,
      "outputs": [
        {
          "output_type": "execute_result",
          "data": {
            "text/plain": [
              "[0, 1, 2, 3, 4, 5, 6, 7, 8, 9, 10, 11, 12, 13, 14, 15, 16, 17, 18, 19]"
            ]
          },
          "metadata": {
            "tags": []
          },
          "execution_count": 137
        }
      ]
    }
  ]
}